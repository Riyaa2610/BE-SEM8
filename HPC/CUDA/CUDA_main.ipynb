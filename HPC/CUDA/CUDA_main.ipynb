{
  "nbformat": 4,
  "nbformat_minor": 0,
  "metadata": {
    "colab": {
      "provenance": [],
      "gpuType": "T4"
    },
    "kernelspec": {
      "name": "python3",
      "display_name": "Python 3"
    },
    "language_info": {
      "name": "python"
    },
    "accelerator": "GPU"
  },
  "cells": [
    {
      "cell_type": "code",
      "source": [
        "!nvcc --version"
      ],
      "metadata": {
        "colab": {
          "base_uri": "https://localhost:8080/"
        },
        "id": "DL8D4v0p0o95",
        "outputId": "cd519bfd-99e8-47ad-f5a2-cc1483eec715"
      },
      "execution_count": null,
      "outputs": [
        {
          "output_type": "stream",
          "name": "stdout",
          "text": [
            "nvcc: NVIDIA (R) Cuda compiler driver\n",
            "Copyright (c) 2005-2024 NVIDIA Corporation\n",
            "Built on Thu_Jun__6_02:18:23_PDT_2024\n",
            "Cuda compilation tools, release 12.5, V12.5.82\n",
            "Build cuda_12.5.r12.5/compiler.34385749_0\n"
          ]
        }
      ]
    },
    {
      "cell_type": "code",
      "source": [
        "!nvidia-smi"
      ],
      "metadata": {
        "colab": {
          "base_uri": "https://localhost:8080/"
        },
        "id": "H6KE50vq1F0I",
        "outputId": "3b0e8590-2487-401a-de87-2dfb1c905abf"
      },
      "execution_count": null,
      "outputs": [
        {
          "output_type": "stream",
          "name": "stdout",
          "text": [
            "Sun May  4 10:25:46 2025       \n",
            "+-----------------------------------------------------------------------------------------+\n",
            "| NVIDIA-SMI 550.54.15              Driver Version: 550.54.15      CUDA Version: 12.4     |\n",
            "|-----------------------------------------+------------------------+----------------------+\n",
            "| GPU  Name                 Persistence-M | Bus-Id          Disp.A | Volatile Uncorr. ECC |\n",
            "| Fan  Temp   Perf          Pwr:Usage/Cap |           Memory-Usage | GPU-Util  Compute M. |\n",
            "|                                         |                        |               MIG M. |\n",
            "|=========================================+========================+======================|\n",
            "|   0  Tesla T4                       Off |   00000000:00:04.0 Off |                    0 |\n",
            "| N/A   42C    P8              9W /   70W |       0MiB /  15360MiB |      0%      Default |\n",
            "|                                         |                        |                  N/A |\n",
            "+-----------------------------------------+------------------------+----------------------+\n",
            "                                                                                         \n",
            "+-----------------------------------------------------------------------------------------+\n",
            "| Processes:                                                                              |\n",
            "|  GPU   GI   CI        PID   Type   Process name                              GPU Memory |\n",
            "|        ID   ID                                                               Usage      |\n",
            "|=========================================================================================|\n",
            "|  No running processes found                                                             |\n",
            "+-----------------------------------------------------------------------------------------+\n"
          ]
        }
      ]
    },
    {
      "cell_type": "code",
      "source": [
        "%%writefile vector.cu\n",
        "#include <bits/stdc++.h>\n",
        "#include <cuda_runtime.h>\n",
        "using namespace std;\n",
        "using namespace std::chrono;\n",
        "\n",
        "__global__ void add(int* A,int* B,int* C,int size){\n",
        "  int tid=blockIdx.x*blockDim.x+threadIdx.x;\n",
        "  if(tid<size){\n",
        "    C[tid]=A[tid]+B[tid];\n",
        "  }\n",
        "}\n",
        "\n",
        "void initialize(int* vector,int size){\n",
        "  for(int i=0;i<size;i++){\n",
        "    vector[i]=rand()%10;\n",
        "  }\n",
        "}\n",
        "\n",
        "void print(int* vector,int size){\n",
        "  for(int i=0;i<size;i++){\n",
        "    cout<<vector[i]<<\" \";\n",
        "  }\n",
        "  cout<<endl;\n",
        "}\n",
        "\n",
        "int main(){\n",
        "  int N=4;\n",
        "  int *A,*B,*C;\n",
        "  int vectorSize=N;\n",
        "  size_t vectorBytes=vectorSize*sizeof(int);\n",
        "  A=new int[vectorSize];\n",
        "  B=new int[vectorSize];\n",
        "  C=new int[vectorSize];\n",
        "  initialize(A,N);\n",
        "  initialize(B,N);\n",
        "  cout<<\"Vector A : \";\n",
        "  print(A,N);\n",
        "  cout<<\"Vector B : \";\n",
        "  print(B,N);\n",
        "\n",
        "  int *X,*Y,*Z;\n",
        "  cudaMalloc(&X,vectorBytes);\n",
        "  cudaMalloc(&Y,vectorBytes);\n",
        "  cudaMalloc(&Z,vectorBytes);\n",
        "\n",
        "  cudaMemcpy(X,A,vectorBytes,cudaMemcpyHostToDevice);\n",
        "  cudaMemcpy(Y,B,vectorBytes,cudaMemcpyHostToDevice);\n",
        "\n",
        "  int threadsPerBlock=256;\n",
        "  int BlocksPerGrid=(N+threadsPerBlock-1)/threadsPerBlock;\n",
        "  add<<<threadsPerBlock,BlocksPerGrid>>>(X,Y,Z,N);\n",
        "  cudaMemcpy(C,Z,vectorBytes,cudaMemcpyDeviceToHost);\n",
        "  cout<<\"Addition : \";\n",
        "  print(C,N);\n",
        "  delete[] A;\n",
        "  delete[] B;\n",
        "  delete[] C;\n",
        "  cudaFree(X);\n",
        "  cudaFree(Y);\n",
        "  cudaFree(Z);\n",
        "  return 0;\n",
        "}"
      ],
      "metadata": {
        "colab": {
          "base_uri": "https://localhost:8080/"
        },
        "id": "oi2i143v1Ldh",
        "outputId": "9b57cfbf-5cea-4dd5-fe22-afc2c147c850"
      },
      "execution_count": null,
      "outputs": [
        {
          "output_type": "stream",
          "name": "stdout",
          "text": [
            "Overwriting vector.cu\n"
          ]
        }
      ]
    },
    {
      "cell_type": "code",
      "source": [
        "!nvcc -arch=sm_75 vector.cu -o vec"
      ],
      "metadata": {
        "id": "M6tonw2r6EbC"
      },
      "execution_count": null,
      "outputs": []
    },
    {
      "cell_type": "code",
      "source": [
        "!./vec"
      ],
      "metadata": {
        "colab": {
          "base_uri": "https://localhost:8080/"
        },
        "id": "Ekm8e1Qm6kqP",
        "outputId": "23b363c4-a80b-4fc1-e7e6-5ef58d5d637e"
      },
      "execution_count": null,
      "outputs": [
        {
          "output_type": "stream",
          "name": "stdout",
          "text": [
            "Vector A : 3 6 7 5 \n",
            "Vector B : 3 5 6 2 \n",
            "Addition : 6 11 13 7 \n"
          ]
        }
      ]
    },
    {
      "cell_type": "code",
      "source": [
        "%%writefile matrix.cu\n",
        "#include <bits/stdc++.h>\n",
        "#include <cuda_runtime.h>\n",
        "using namespace std;\n",
        "using namespace std::chrono;\n",
        "\n",
        "__global__ void multiply(int *A,int *B,int *C,int size){\n",
        "  int row=blockIdx.y*blockDim.y+threadIdx.y;\n",
        "  int col=blockIdx.x*blockDim.x+threadIdx.x;\n",
        "  if(row<size && col<size){\n",
        "    int sum=0;\n",
        "    for(int i=0;i<size;i++){\n",
        "      sum+=A[row*size+i]*B[i*size+col];\n",
        "    }\n",
        "    C[row*size+col]=sum;\n",
        "  }\n",
        "}\n",
        "\n",
        "void initialize(int* matrix,int size){\n",
        "  for(int i=0;i<size*size;i++){\n",
        "    matrix[i]=rand()%10;\n",
        "  }\n",
        "}\n",
        "\n",
        "void print(int* matrix,int size){\n",
        "  for(int row=0;row<size;row++){\n",
        "    for(int col=0;col<size;col++){\n",
        "      cout<<matrix[row*size+col]<<\" \";\n",
        "    }\n",
        "    cout<<endl;\n",
        "  }\n",
        "  cout<<endl;\n",
        "}\n",
        "\n",
        "int main(){\n",
        "  int *A,*B,*C;\n",
        "  int N=2;\n",
        "  int blockSize=16;\n",
        "  int matrixSize=N*N;\n",
        "  size_t matrixBytes=matrixSize*sizeof(int);\n",
        "  A=new int[matrixSize];\n",
        "  B=new int[matrixSize];\n",
        "  C=new int[matrixSize];\n",
        "\n",
        "  initialize(A,N);\n",
        "  initialize(B,N);\n",
        "  cout<<\"Matrix A : \";\n",
        "  print(A,N);\n",
        "  cout<<\"Matrix B : \";\n",
        "  print(B,N);\n",
        "\n",
        "  int *X,*Y,*Z;\n",
        "  cudaMalloc(&X,matrixBytes);\n",
        "  cudaMalloc(&Y,matrixBytes);\n",
        "  cudaMalloc(&Z,matrixBytes);\n",
        "\n",
        "  cudaMemcpy(X,A,matrixBytes,cudaMemcpyHostToDevice);\n",
        "  cudaMemcpy(Y,B,matrixBytes,cudaMemcpyHostToDevice);\n",
        "\n",
        "  int Threads=2;\n",
        "  int Blocks=N/Threads;\n",
        "  dim3 threads(Threads,Threads);\n",
        "  dim3 blocks(Blocks,Blocks);\n",
        "  multiply<<<blocks,threads>>>(X,Y,Z,N);\n",
        "  cudaMemcpy(C,Z,matrixBytes,cudaMemcpyDeviceToHost);\n",
        "  cout<<\"Multiplication of A and B \"<<endl;\n",
        "  print(C,N);\n",
        "  delete[] A;\n",
        "  delete[] B;\n",
        "  delete[] C;\n",
        "  cudaFree(X);\n",
        "  cudaFree(Y);\n",
        "  cudaFree(Z);\n",
        "  return 0;\n",
        "}"
      ],
      "metadata": {
        "colab": {
          "base_uri": "https://localhost:8080/"
        },
        "id": "EsYVMfEK9J9w",
        "outputId": "65aeb915-c681-4827-81ba-0e86e896ba8e"
      },
      "execution_count": null,
      "outputs": [
        {
          "output_type": "stream",
          "name": "stdout",
          "text": [
            "Overwriting matrix.cu\n"
          ]
        }
      ]
    },
    {
      "cell_type": "code",
      "source": [
        "!nvcc -arch=sm_75 matrix.cu -o mat"
      ],
      "metadata": {
        "colab": {
          "base_uri": "https://localhost:8080/"
        },
        "id": "g6xg8hXoDp-U",
        "outputId": "6eb45525-750c-4992-9942-6daaabb9767f"
      },
      "execution_count": null,
      "outputs": [
        {
          "output_type": "stream",
          "name": "stdout",
          "text": [
            "\u001b[01m\u001b[0m\u001b[01mmatrix.cu(37)\u001b[0m: \u001b[01;35mwarning\u001b[0m #177-D: variable \u001b[01m\"blockSize\"\u001b[0m was declared but never referenced\n",
            "    int blockSize=16;\n",
            "        ^\n",
            "\n",
            "\u001b[01;36m\u001b[0m\u001b[01;36mRemark\u001b[0m: The warnings can be suppressed with \"-diag-suppress <warning-number>\"\n",
            "\n"
          ]
        }
      ]
    },
    {
      "cell_type": "code",
      "source": [
        "! ./mat"
      ],
      "metadata": {
        "colab": {
          "base_uri": "https://localhost:8080/"
        },
        "id": "Q1FNxGmqESlv",
        "outputId": "70f2a1cb-afbc-43ab-86ac-f61777a0f07e"
      },
      "execution_count": null,
      "outputs": [
        {
          "output_type": "stream",
          "name": "stdout",
          "text": [
            "Matrix A : 3 6 \n",
            "7 5 \n",
            "\n",
            "Matrix B : 3 5 \n",
            "6 2 \n",
            "\n",
            "Multiplication of A and B \n",
            "45 27 \n",
            "51 45 \n",
            "\n"
          ]
        }
      ]
    }
  ]
}